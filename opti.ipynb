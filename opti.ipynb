{
 "cells": [
  {
   "cell_type": "markdown",
   "metadata": {},
   "source": [
    "# Projet d'optimisation\n",
    "## 1. Etude du problème d'optimisation\n",
    "### Question 1:"
   ]
  },
  {
   "cell_type": "markdown",
   "metadata": {},
   "source": [
    "Le problème d'optimisation à résoudre peut se mettre sous la forme: $ \\underset{c(u) \\leq 0}{\\mathrm{min}} f(u) $\n",
    "\n",
    "avec: $ f(u) = \\frac{1}{2} \\|u-u_{b}\\|_{2}^{2} + \\displaystyle \\sum_{(i,j)} \\|\\nabla{u}(i,j)\\|_{2}^{2} $\n",
    "\n",
    "La variable de décision $u$ est donc l'image comportant $nm$ pixels. Il y a donc $nm$ variables de décisions. Chacune de ces variables doit être comprise entre 0 et 1 d'après le codage des pixels, ce qui nous donne $2nm$ contraintes de la forme suivante: \n",
    "$$ \\begin{align*} -u(i,j) &\\leq 0 \\\\\n",
    "u(i,j) -1 &\\leq 0 \\\\\n",
    "\\end{align*} $$\n",
    "\n",
    "pour i variant de 1 à n et j variant de 1 à m."
   ]
  },
  {
   "cell_type": "markdown",
   "metadata": {},
   "source": [
    "### Question 2:\n",
    "\n",
    "Montrons que la fonction $f$ est différentiable: \n",
    "\n",
    "\n",
    "Montrons maintenant que la fonction $f$ est convexe."
   ]
  },
  {
   "cell_type": "markdown",
   "metadata": {},
   "source": [
    "### Question 3:\n",
    "\n"
   ]
  }
 ],
 "metadata": {
  "kernelspec": {
   "display_name": "Python 3",
   "language": "python",
   "name": "python3"
  },
  "language_info": {
   "codemirror_mode": {
    "name": "ipython",
    "version": 3
   },
   "file_extension": ".py",
   "mimetype": "text/x-python",
   "name": "python",
   "nbconvert_exporter": "python",
   "pygments_lexer": "ipython3",
   "version": "3.8.3"
  }
 },
 "nbformat": 4,
 "nbformat_minor": 4
}
